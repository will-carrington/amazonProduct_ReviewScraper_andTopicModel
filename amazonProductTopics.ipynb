{
  "cells": [
    {
      "cell_type": "code",
      "execution_count": 2,
      "metadata": {
        "colab": {
          "base_uri": "https://localhost:8080/"
        },
        "id": "hCPdNytxC-Xc",
        "outputId": "4290db63-83aa-4612-9e15-d89d311b94b1"
      },
      "outputs": [
        {
          "output_type": "stream",
          "name": "stdout",
          "text": [
            "Looking in indexes: https://pypi.org/simple, https://us-python.pkg.dev/colab-wheels/public/simple/\n",
            "Collecting pyLDAvis\n",
            "  Downloading pyLDAvis-3.3.1.tar.gz (1.7 MB)\n",
            "\u001b[K     |████████████████████████████████| 1.7 MB 5.1 MB/s \n",
            "\u001b[?25h  Installing build dependencies ... \u001b[?25l\u001b[?25hdone\n",
            "  Getting requirements to build wheel ... \u001b[?25l\u001b[?25hdone\n",
            "  Installing backend dependencies ... \u001b[?25l\u001b[?25hdone\n",
            "    Preparing wheel metadata ... \u001b[?25l\u001b[?25hdone\n",
            "Collecting funcy\n",
            "  Downloading funcy-1.17-py2.py3-none-any.whl (33 kB)\n",
            "Requirement already satisfied: joblib in /usr/local/lib/python3.7/dist-packages (from pyLDAvis) (1.1.0)\n",
            "Requirement already satisfied: jinja2 in /usr/local/lib/python3.7/dist-packages (from pyLDAvis) (2.11.3)\n",
            "Requirement already satisfied: future in /usr/local/lib/python3.7/dist-packages (from pyLDAvis) (0.16.0)\n",
            "Requirement already satisfied: setuptools in /usr/local/lib/python3.7/dist-packages (from pyLDAvis) (57.4.0)\n",
            "Requirement already satisfied: numexpr in /usr/local/lib/python3.7/dist-packages (from pyLDAvis) (2.8.3)\n",
            "Requirement already satisfied: scipy in /usr/local/lib/python3.7/dist-packages (from pyLDAvis) (1.7.3)\n",
            "Requirement already satisfied: numpy>=1.20.0 in /usr/local/lib/python3.7/dist-packages (from pyLDAvis) (1.21.6)\n",
            "Requirement already satisfied: scikit-learn in /usr/local/lib/python3.7/dist-packages (from pyLDAvis) (1.0.2)\n",
            "Requirement already satisfied: gensim in /usr/local/lib/python3.7/dist-packages (from pyLDAvis) (3.6.0)\n",
            "Requirement already satisfied: pandas>=1.2.0 in /usr/local/lib/python3.7/dist-packages (from pyLDAvis) (1.3.5)\n",
            "Collecting sklearn\n",
            "  Downloading sklearn-0.0.tar.gz (1.1 kB)\n",
            "Requirement already satisfied: pytz>=2017.3 in /usr/local/lib/python3.7/dist-packages (from pandas>=1.2.0->pyLDAvis) (2022.2.1)\n",
            "Requirement already satisfied: python-dateutil>=2.7.3 in /usr/local/lib/python3.7/dist-packages (from pandas>=1.2.0->pyLDAvis) (2.8.2)\n",
            "Requirement already satisfied: six>=1.5 in /usr/local/lib/python3.7/dist-packages (from python-dateutil>=2.7.3->pandas>=1.2.0->pyLDAvis) (1.15.0)\n",
            "Requirement already satisfied: smart-open>=1.2.1 in /usr/local/lib/python3.7/dist-packages (from gensim->pyLDAvis) (5.2.1)\n",
            "Requirement already satisfied: MarkupSafe>=0.23 in /usr/local/lib/python3.7/dist-packages (from jinja2->pyLDAvis) (2.0.1)\n",
            "Requirement already satisfied: packaging in /usr/local/lib/python3.7/dist-packages (from numexpr->pyLDAvis) (21.3)\n",
            "Requirement already satisfied: pyparsing!=3.0.5,>=2.0.2 in /usr/local/lib/python3.7/dist-packages (from packaging->numexpr->pyLDAvis) (3.0.9)\n",
            "Requirement already satisfied: threadpoolctl>=2.0.0 in /usr/local/lib/python3.7/dist-packages (from scikit-learn->pyLDAvis) (3.1.0)\n",
            "Building wheels for collected packages: pyLDAvis, sklearn\n",
            "  Building wheel for pyLDAvis (PEP 517) ... \u001b[?25l\u001b[?25hdone\n",
            "  Created wheel for pyLDAvis: filename=pyLDAvis-3.3.1-py2.py3-none-any.whl size=136898 sha256=f68f6cdeeac71eaf1c0ba62b656d0ab663fb77d621cbb8b7143a0df6fc63e1f7\n",
            "  Stored in directory: /root/.cache/pip/wheels/c9/21/f6/17bcf2667e8a68532ba2fbf6d5c72fdf4c7f7d9abfa4852d2f\n",
            "  Building wheel for sklearn (setup.py) ... \u001b[?25l\u001b[?25hdone\n",
            "  Created wheel for sklearn: filename=sklearn-0.0-py2.py3-none-any.whl size=1310 sha256=72d05e85837261b4f198268e0d669559b9191aaf8a45154321a4890af24b9dcd\n",
            "  Stored in directory: /root/.cache/pip/wheels/46/ef/c3/157e41f5ee1372d1be90b09f74f82b10e391eaacca8f22d33e\n",
            "Successfully built pyLDAvis sklearn\n",
            "Installing collected packages: sklearn, funcy, pyLDAvis\n",
            "Successfully installed funcy-1.17 pyLDAvis-3.3.1 sklearn-0.0\n"
          ]
        }
      ],
      "source": [
        "pip install pyLDAvis"
      ]
    },
    {
      "cell_type": "code",
      "execution_count": 16,
      "metadata": {
        "scrolled": true,
        "colab": {
          "base_uri": "https://localhost:8080/"
        },
        "id": "wrWLrnGHC-Xb",
        "outputId": "601b8e05-d251-4f47-bc6a-cd6764545c35"
      },
      "outputs": [
        {
          "output_type": "stream",
          "name": "stderr",
          "text": [
            "[nltk_data] Downloading package stopwords to /root/nltk_data...\n",
            "[nltk_data]   Package stopwords is already up-to-date!\n"
          ]
        }
      ],
      "source": [
        "import sys\n",
        "import re, numpy as np, pandas as pd\n",
        "from pprint import pprint\n",
        "import gensim, spacy, logging, warnings\n",
        "import gensim.corpora as corpora\n",
        "from gensim.utils import simple_preprocess\n",
        "from gensim.models import CoherenceModel\n",
        "import matplotlib.pyplot as plt\n",
        "from nltk.corpus import stopwords\n",
        "import nltk\n",
        "nltk.download('stopwords')\n",
        "stop_words = stopwords.words('english')\n",
        "stop_words.extend(['from', 'subject', 're', 'edu', 'use', 'not', 'would', 'say', 'could', '_', 'be', 'know', 'good', 'go', 'get', 'do', 'done', 'try', 'many', 'some', 'nice', 'thank', 'think', 'see', 'rather', 'easy', 'easily', 'lot', 'lack', 'make', 'want', 'seem', 'run', 'need', 'even', 'right', 'line', 'even', 'also', 'may', 'take', 'come'])\n",
        "%matplotlib inline\n",
        "warnings.filterwarnings(\"ignore\",category=DeprecationWarning)\n",
        "logging.basicConfig(format='%(asctime)s : %(levelname)s : %(message)s', level=logging.ERROR)\n",
        "import requests \n",
        "import time \n",
        "import bs4\n",
        "from bs4 import BeautifulSoup\n",
        "import random\n",
        "from gensim import corpora, models, similarities\n",
        "import sys"
      ]
    },
    {
      "cell_type": "code",
      "source": [
        "fStar = pd.read_csv('/content/fiveStarReviews.csv')\n",
        "oStar = pd.read_csv('/content/oneStarReviews.csv')"
      ],
      "metadata": {
        "id": "RelkAEEgEC9G"
      },
      "execution_count": 14,
      "outputs": []
    },
    {
      "cell_type": "code",
      "execution_count": 15,
      "metadata": {
        "scrolled": true,
        "colab": {
          "base_uri": "https://localhost:8080/",
          "height": 1000
        },
        "id": "2h9OYj66C-Xb",
        "outputId": "de749095-bddd-46dc-8297-fd209febd762"
      },
      "outputs": [
        {
          "output_type": "stream",
          "name": "stderr",
          "text": [
            "<>:5: DeprecationWarning: invalid escape sequence \\S\n",
            "<>:6: DeprecationWarning: invalid escape sequence \\s\n",
            "<>:5: DeprecationWarning: invalid escape sequence \\S\n",
            "<>:6: DeprecationWarning: invalid escape sequence \\s\n",
            "<>:5: DeprecationWarning: invalid escape sequence \\S\n",
            "<>:6: DeprecationWarning: invalid escape sequence \\s\n",
            "<ipython-input-15-f59041caf8b6>:5: DeprecationWarning: invalid escape sequence \\S\n",
            "  sent = re.sub('\\S*@\\S*\\s?', '', str(sent))\n",
            "<ipython-input-15-f59041caf8b6>:6: DeprecationWarning: invalid escape sequence \\s\n",
            "  sent = re.sub('\\s+', ' ', str(sent))\n"
          ]
        },
        {
          "name": "stdout",
          "output_type": "stream",
          "text": [
            "*\n",
            "**\n",
            "***\n",
            "Enter high or low, to analyze 5 star vs 1 star reviews\n",
            "Enter the number of topics you would like to analyze (rec: 5-10)\n",
            "***\n",
            "**\n",
            "*\n",
            "low\n",
            "5\n"
          ]
        },
        {
          "output_type": "stream",
          "name": "stderr",
          "text": [
            "/usr/local/lib/python3.7/dist-packages/gensim/models/phrases.py:598: UserWarning: For a faster implementation, use the gensim.models.phrases.Phraser class\n",
            "  warnings.warn(\"For a faster implementation, use the gensim.models.phrases.Phraser class\")\n",
            "/usr/local/lib/python3.7/dist-packages/gensim/models/ldamodel.py:1077: DeprecationWarning: Calling np.sum(generator) is deprecated, and in the future will give a different result. Use np.sum(np.fromiter(generator)) or the python sum builtin instead.\n",
            "  score += np.sum(cnt * logsumexp(Elogthetad + Elogbeta[:, int(id)]) for id, cnt in doc)\n",
            "/usr/local/lib/python3.7/dist-packages/gensim/models/ldamodel.py:1077: DeprecationWarning: Calling np.sum(generator) is deprecated, and in the future will give a different result. Use np.sum(np.fromiter(generator)) or the python sum builtin instead.\n",
            "  score += np.sum(cnt * logsumexp(Elogthetad + Elogbeta[:, int(id)]) for id, cnt in doc)\n",
            "/usr/local/lib/python3.7/dist-packages/gensim/models/ldamodel.py:1077: DeprecationWarning: Calling np.sum(generator) is deprecated, and in the future will give a different result. Use np.sum(np.fromiter(generator)) or the python sum builtin instead.\n",
            "  score += np.sum(cnt * logsumexp(Elogthetad + Elogbeta[:, int(id)]) for id, cnt in doc)\n",
            "/usr/local/lib/python3.7/dist-packages/gensim/models/ldamodel.py:1077: DeprecationWarning: Calling np.sum(generator) is deprecated, and in the future will give a different result. Use np.sum(np.fromiter(generator)) or the python sum builtin instead.\n",
            "  score += np.sum(cnt * logsumexp(Elogthetad + Elogbeta[:, int(id)]) for id, cnt in doc)\n",
            "/usr/local/lib/python3.7/dist-packages/gensim/models/ldamodel.py:1077: DeprecationWarning: Calling np.sum(generator) is deprecated, and in the future will give a different result. Use np.sum(np.fromiter(generator)) or the python sum builtin instead.\n",
            "  score += np.sum(cnt * logsumexp(Elogthetad + Elogbeta[:, int(id)]) for id, cnt in doc)\n",
            "/usr/local/lib/python3.7/dist-packages/gensim/models/ldamodel.py:1077: DeprecationWarning: Calling np.sum(generator) is deprecated, and in the future will give a different result. Use np.sum(np.fromiter(generator)) or the python sum builtin instead.\n",
            "  score += np.sum(cnt * logsumexp(Elogthetad + Elogbeta[:, int(id)]) for id, cnt in doc)\n",
            "/usr/local/lib/python3.7/dist-packages/gensim/models/ldamodel.py:1077: DeprecationWarning: Calling np.sum(generator) is deprecated, and in the future will give a different result. Use np.sum(np.fromiter(generator)) or the python sum builtin instead.\n",
            "  score += np.sum(cnt * logsumexp(Elogthetad + Elogbeta[:, int(id)]) for id, cnt in doc)\n",
            "/usr/local/lib/python3.7/dist-packages/gensim/models/ldamodel.py:1077: DeprecationWarning: Calling np.sum(generator) is deprecated, and in the future will give a different result. Use np.sum(np.fromiter(generator)) or the python sum builtin instead.\n",
            "  score += np.sum(cnt * logsumexp(Elogthetad + Elogbeta[:, int(id)]) for id, cnt in doc)\n",
            "/usr/local/lib/python3.7/dist-packages/gensim/models/ldamodel.py:1077: DeprecationWarning: Calling np.sum(generator) is deprecated, and in the future will give a different result. Use np.sum(np.fromiter(generator)) or the python sum builtin instead.\n",
            "  score += np.sum(cnt * logsumexp(Elogthetad + Elogbeta[:, int(id)]) for id, cnt in doc)\n",
            "/usr/local/lib/python3.7/dist-packages/gensim/models/ldamodel.py:1077: DeprecationWarning: Calling np.sum(generator) is deprecated, and in the future will give a different result. Use np.sum(np.fromiter(generator)) or the python sum builtin instead.\n",
            "  score += np.sum(cnt * logsumexp(Elogthetad + Elogbeta[:, int(id)]) for id, cnt in doc)\n",
            "/usr/local/lib/python3.7/dist-packages/gensim/models/ldamodel.py:1077: DeprecationWarning: Calling np.sum(generator) is deprecated, and in the future will give a different result. Use np.sum(np.fromiter(generator)) or the python sum builtin instead.\n",
            "  score += np.sum(cnt * logsumexp(Elogthetad + Elogbeta[:, int(id)]) for id, cnt in doc)\n",
            "/usr/local/lib/python3.7/dist-packages/gensim/models/ldamodel.py:1077: DeprecationWarning: Calling np.sum(generator) is deprecated, and in the future will give a different result. Use np.sum(np.fromiter(generator)) or the python sum builtin instead.\n",
            "  score += np.sum(cnt * logsumexp(Elogthetad + Elogbeta[:, int(id)]) for id, cnt in doc)\n",
            "/usr/local/lib/python3.7/dist-packages/gensim/models/ldamodel.py:1077: DeprecationWarning: Calling np.sum(generator) is deprecated, and in the future will give a different result. Use np.sum(np.fromiter(generator)) or the python sum builtin instead.\n",
            "  score += np.sum(cnt * logsumexp(Elogthetad + Elogbeta[:, int(id)]) for id, cnt in doc)\n",
            "/usr/local/lib/python3.7/dist-packages/gensim/models/ldamodel.py:1077: DeprecationWarning: Calling np.sum(generator) is deprecated, and in the future will give a different result. Use np.sum(np.fromiter(generator)) or the python sum builtin instead.\n",
            "  score += np.sum(cnt * logsumexp(Elogthetad + Elogbeta[:, int(id)]) for id, cnt in doc)\n",
            "/usr/local/lib/python3.7/dist-packages/gensim/models/ldamodel.py:1077: DeprecationWarning: Calling np.sum(generator) is deprecated, and in the future will give a different result. Use np.sum(np.fromiter(generator)) or the python sum builtin instead.\n",
            "  score += np.sum(cnt * logsumexp(Elogthetad + Elogbeta[:, int(id)]) for id, cnt in doc)\n",
            "/usr/local/lib/python3.7/dist-packages/gensim/models/ldamodel.py:1077: DeprecationWarning: Calling np.sum(generator) is deprecated, and in the future will give a different result. Use np.sum(np.fromiter(generator)) or the python sum builtin instead.\n",
            "  score += np.sum(cnt * logsumexp(Elogthetad + Elogbeta[:, int(id)]) for id, cnt in doc)\n",
            "/usr/local/lib/python3.7/dist-packages/gensim/models/ldamodel.py:1077: DeprecationWarning: Calling np.sum(generator) is deprecated, and in the future will give a different result. Use np.sum(np.fromiter(generator)) or the python sum builtin instead.\n",
            "  score += np.sum(cnt * logsumexp(Elogthetad + Elogbeta[:, int(id)]) for id, cnt in doc)\n",
            "/usr/local/lib/python3.7/dist-packages/gensim/models/ldamodel.py:1077: DeprecationWarning: Calling np.sum(generator) is deprecated, and in the future will give a different result. Use np.sum(np.fromiter(generator)) or the python sum builtin instead.\n",
            "  score += np.sum(cnt * logsumexp(Elogthetad + Elogbeta[:, int(id)]) for id, cnt in doc)\n",
            "/usr/local/lib/python3.7/dist-packages/gensim/models/ldamodel.py:1077: DeprecationWarning: Calling np.sum(generator) is deprecated, and in the future will give a different result. Use np.sum(np.fromiter(generator)) or the python sum builtin instead.\n",
            "  score += np.sum(cnt * logsumexp(Elogthetad + Elogbeta[:, int(id)]) for id, cnt in doc)\n",
            "/usr/local/lib/python3.7/dist-packages/gensim/models/ldamodel.py:1077: DeprecationWarning: Calling np.sum(generator) is deprecated, and in the future will give a different result. Use np.sum(np.fromiter(generator)) or the python sum builtin instead.\n",
            "  score += np.sum(cnt * logsumexp(Elogthetad + Elogbeta[:, int(id)]) for id, cnt in doc)\n",
            "/usr/local/lib/python3.7/dist-packages/gensim/models/ldamodel.py:1077: DeprecationWarning: Calling np.sum(generator) is deprecated, and in the future will give a different result. Use np.sum(np.fromiter(generator)) or the python sum builtin instead.\n",
            "  score += np.sum(cnt * logsumexp(Elogthetad + Elogbeta[:, int(id)]) for id, cnt in doc)\n",
            "/usr/local/lib/python3.7/dist-packages/gensim/models/ldamodel.py:1077: DeprecationWarning: Calling np.sum(generator) is deprecated, and in the future will give a different result. Use np.sum(np.fromiter(generator)) or the python sum builtin instead.\n",
            "  score += np.sum(cnt * logsumexp(Elogthetad + Elogbeta[:, int(id)]) for id, cnt in doc)\n",
            "/usr/local/lib/python3.7/dist-packages/gensim/models/ldamodel.py:1077: DeprecationWarning: Calling np.sum(generator) is deprecated, and in the future will give a different result. Use np.sum(np.fromiter(generator)) or the python sum builtin instead.\n",
            "  score += np.sum(cnt * logsumexp(Elogthetad + Elogbeta[:, int(id)]) for id, cnt in doc)\n",
            "/usr/local/lib/python3.7/dist-packages/gensim/models/ldamodel.py:1077: DeprecationWarning: Calling np.sum(generator) is deprecated, and in the future will give a different result. Use np.sum(np.fromiter(generator)) or the python sum builtin instead.\n",
            "  score += np.sum(cnt * logsumexp(Elogthetad + Elogbeta[:, int(id)]) for id, cnt in doc)\n",
            "/usr/local/lib/python3.7/dist-packages/gensim/models/ldamodel.py:1077: DeprecationWarning: Calling np.sum(generator) is deprecated, and in the future will give a different result. Use np.sum(np.fromiter(generator)) or the python sum builtin instead.\n",
            "  score += np.sum(cnt * logsumexp(Elogthetad + Elogbeta[:, int(id)]) for id, cnt in doc)\n",
            "/usr/local/lib/python3.7/dist-packages/gensim/models/ldamodel.py:1077: DeprecationWarning: Calling np.sum(generator) is deprecated, and in the future will give a different result. Use np.sum(np.fromiter(generator)) or the python sum builtin instead.\n",
            "  score += np.sum(cnt * logsumexp(Elogthetad + Elogbeta[:, int(id)]) for id, cnt in doc)\n",
            "/usr/local/lib/python3.7/dist-packages/gensim/models/ldamodel.py:1077: DeprecationWarning: Calling np.sum(generator) is deprecated, and in the future will give a different result. Use np.sum(np.fromiter(generator)) or the python sum builtin instead.\n",
            "  score += np.sum(cnt * logsumexp(Elogthetad + Elogbeta[:, int(id)]) for id, cnt in doc)\n",
            "/usr/local/lib/python3.7/dist-packages/gensim/models/ldamodel.py:1077: DeprecationWarning: Calling np.sum(generator) is deprecated, and in the future will give a different result. Use np.sum(np.fromiter(generator)) or the python sum builtin instead.\n",
            "  score += np.sum(cnt * logsumexp(Elogthetad + Elogbeta[:, int(id)]) for id, cnt in doc)\n",
            "/usr/local/lib/python3.7/dist-packages/gensim/models/ldamodel.py:1077: DeprecationWarning: Calling np.sum(generator) is deprecated, and in the future will give a different result. Use np.sum(np.fromiter(generator)) or the python sum builtin instead.\n",
            "  score += np.sum(cnt * logsumexp(Elogthetad + Elogbeta[:, int(id)]) for id, cnt in doc)\n",
            "/usr/local/lib/python3.7/dist-packages/gensim/models/ldamodel.py:1077: DeprecationWarning: Calling np.sum(generator) is deprecated, and in the future will give a different result. Use np.sum(np.fromiter(generator)) or the python sum builtin instead.\n",
            "  score += np.sum(cnt * logsumexp(Elogthetad + Elogbeta[:, int(id)]) for id, cnt in doc)\n",
            "/usr/local/lib/python3.7/dist-packages/gensim/models/ldamodel.py:1077: DeprecationWarning: Calling np.sum(generator) is deprecated, and in the future will give a different result. Use np.sum(np.fromiter(generator)) or the python sum builtin instead.\n",
            "  score += np.sum(cnt * logsumexp(Elogthetad + Elogbeta[:, int(id)]) for id, cnt in doc)\n",
            "/usr/local/lib/python3.7/dist-packages/gensim/models/ldamodel.py:1077: DeprecationWarning: Calling np.sum(generator) is deprecated, and in the future will give a different result. Use np.sum(np.fromiter(generator)) or the python sum builtin instead.\n",
            "  score += np.sum(cnt * logsumexp(Elogthetad + Elogbeta[:, int(id)]) for id, cnt in doc)\n",
            "/usr/local/lib/python3.7/dist-packages/gensim/models/ldamodel.py:1077: DeprecationWarning: Calling np.sum(generator) is deprecated, and in the future will give a different result. Use np.sum(np.fromiter(generator)) or the python sum builtin instead.\n",
            "  score += np.sum(cnt * logsumexp(Elogthetad + Elogbeta[:, int(id)]) for id, cnt in doc)\n",
            "/usr/local/lib/python3.7/dist-packages/gensim/models/ldamodel.py:1077: DeprecationWarning: Calling np.sum(generator) is deprecated, and in the future will give a different result. Use np.sum(np.fromiter(generator)) or the python sum builtin instead.\n",
            "  score += np.sum(cnt * logsumexp(Elogthetad + Elogbeta[:, int(id)]) for id, cnt in doc)\n",
            "/usr/local/lib/python3.7/dist-packages/gensim/models/ldamodel.py:1077: DeprecationWarning: Calling np.sum(generator) is deprecated, and in the future will give a different result. Use np.sum(np.fromiter(generator)) or the python sum builtin instead.\n",
            "  score += np.sum(cnt * logsumexp(Elogthetad + Elogbeta[:, int(id)]) for id, cnt in doc)\n",
            "/usr/local/lib/python3.7/dist-packages/gensim/models/ldamodel.py:1077: DeprecationWarning: Calling np.sum(generator) is deprecated, and in the future will give a different result. Use np.sum(np.fromiter(generator)) or the python sum builtin instead.\n",
            "  score += np.sum(cnt * logsumexp(Elogthetad + Elogbeta[:, int(id)]) for id, cnt in doc)\n",
            "/usr/local/lib/python3.7/dist-packages/gensim/models/ldamodel.py:1077: DeprecationWarning: Calling np.sum(generator) is deprecated, and in the future will give a different result. Use np.sum(np.fromiter(generator)) or the python sum builtin instead.\n",
            "  score += np.sum(cnt * logsumexp(Elogthetad + Elogbeta[:, int(id)]) for id, cnt in doc)\n",
            "/usr/local/lib/python3.7/dist-packages/gensim/models/ldamodel.py:1077: DeprecationWarning: Calling np.sum(generator) is deprecated, and in the future will give a different result. Use np.sum(np.fromiter(generator)) or the python sum builtin instead.\n",
            "  score += np.sum(cnt * logsumexp(Elogthetad + Elogbeta[:, int(id)]) for id, cnt in doc)\n",
            "/usr/local/lib/python3.7/dist-packages/gensim/models/ldamodel.py:1077: DeprecationWarning: Calling np.sum(generator) is deprecated, and in the future will give a different result. Use np.sum(np.fromiter(generator)) or the python sum builtin instead.\n",
            "  score += np.sum(cnt * logsumexp(Elogthetad + Elogbeta[:, int(id)]) for id, cnt in doc)\n",
            "/usr/local/lib/python3.7/dist-packages/gensim/models/ldamodel.py:1077: DeprecationWarning: Calling np.sum(generator) is deprecated, and in the future will give a different result. Use np.sum(np.fromiter(generator)) or the python sum builtin instead.\n",
            "  score += np.sum(cnt * logsumexp(Elogthetad + Elogbeta[:, int(id)]) for id, cnt in doc)\n",
            "/usr/local/lib/python3.7/dist-packages/gensim/models/ldamodel.py:1077: DeprecationWarning: Calling np.sum(generator) is deprecated, and in the future will give a different result. Use np.sum(np.fromiter(generator)) or the python sum builtin instead.\n",
            "  score += np.sum(cnt * logsumexp(Elogthetad + Elogbeta[:, int(id)]) for id, cnt in doc)\n",
            "/usr/local/lib/python3.7/dist-packages/gensim/models/ldamodel.py:1077: DeprecationWarning: Calling np.sum(generator) is deprecated, and in the future will give a different result. Use np.sum(np.fromiter(generator)) or the python sum builtin instead.\n",
            "  score += np.sum(cnt * logsumexp(Elogthetad + Elogbeta[:, int(id)]) for id, cnt in doc)\n",
            "/usr/local/lib/python3.7/dist-packages/gensim/models/ldamodel.py:1077: DeprecationWarning: Calling np.sum(generator) is deprecated, and in the future will give a different result. Use np.sum(np.fromiter(generator)) or the python sum builtin instead.\n",
            "  score += np.sum(cnt * logsumexp(Elogthetad + Elogbeta[:, int(id)]) for id, cnt in doc)\n",
            "/usr/local/lib/python3.7/dist-packages/gensim/models/ldamodel.py:1077: DeprecationWarning: Calling np.sum(generator) is deprecated, and in the future will give a different result. Use np.sum(np.fromiter(generator)) or the python sum builtin instead.\n",
            "  score += np.sum(cnt * logsumexp(Elogthetad + Elogbeta[:, int(id)]) for id, cnt in doc)\n",
            "/usr/local/lib/python3.7/dist-packages/gensim/models/ldamodel.py:1077: DeprecationWarning: Calling np.sum(generator) is deprecated, and in the future will give a different result. Use np.sum(np.fromiter(generator)) or the python sum builtin instead.\n",
            "  score += np.sum(cnt * logsumexp(Elogthetad + Elogbeta[:, int(id)]) for id, cnt in doc)\n",
            "/usr/local/lib/python3.7/dist-packages/gensim/models/ldamodel.py:1077: DeprecationWarning: Calling np.sum(generator) is deprecated, and in the future will give a different result. Use np.sum(np.fromiter(generator)) or the python sum builtin instead.\n",
            "  score += np.sum(cnt * logsumexp(Elogthetad + Elogbeta[:, int(id)]) for id, cnt in doc)\n",
            "/usr/local/lib/python3.7/dist-packages/gensim/models/ldamodel.py:1077: DeprecationWarning: Calling np.sum(generator) is deprecated, and in the future will give a different result. Use np.sum(np.fromiter(generator)) or the python sum builtin instead.\n",
            "  score += np.sum(cnt * logsumexp(Elogthetad + Elogbeta[:, int(id)]) for id, cnt in doc)\n",
            "/usr/local/lib/python3.7/dist-packages/gensim/models/ldamodel.py:1077: DeprecationWarning: Calling np.sum(generator) is deprecated, and in the future will give a different result. Use np.sum(np.fromiter(generator)) or the python sum builtin instead.\n",
            "  score += np.sum(cnt * logsumexp(Elogthetad + Elogbeta[:, int(id)]) for id, cnt in doc)\n",
            "/usr/local/lib/python3.7/dist-packages/gensim/models/ldamodel.py:1077: DeprecationWarning: Calling np.sum(generator) is deprecated, and in the future will give a different result. Use np.sum(np.fromiter(generator)) or the python sum builtin instead.\n",
            "  score += np.sum(cnt * logsumexp(Elogthetad + Elogbeta[:, int(id)]) for id, cnt in doc)\n",
            "/usr/local/lib/python3.7/dist-packages/gensim/models/ldamodel.py:1077: DeprecationWarning: Calling np.sum(generator) is deprecated, and in the future will give a different result. Use np.sum(np.fromiter(generator)) or the python sum builtin instead.\n",
            "  score += np.sum(cnt * logsumexp(Elogthetad + Elogbeta[:, int(id)]) for id, cnt in doc)\n",
            "/usr/local/lib/python3.7/dist-packages/gensim/models/ldamodel.py:1077: DeprecationWarning: Calling np.sum(generator) is deprecated, and in the future will give a different result. Use np.sum(np.fromiter(generator)) or the python sum builtin instead.\n",
            "  score += np.sum(cnt * logsumexp(Elogthetad + Elogbeta[:, int(id)]) for id, cnt in doc)\n",
            "/usr/local/lib/python3.7/dist-packages/gensim/models/ldamodel.py:1077: DeprecationWarning: Calling np.sum(generator) is deprecated, and in the future will give a different result. Use np.sum(np.fromiter(generator)) or the python sum builtin instead.\n",
            "  score += np.sum(cnt * logsumexp(Elogthetad + Elogbeta[:, int(id)]) for id, cnt in doc)\n",
            "/usr/local/lib/python3.7/dist-packages/gensim/models/ldamodel.py:1077: DeprecationWarning: Calling np.sum(generator) is deprecated, and in the future will give a different result. Use np.sum(np.fromiter(generator)) or the python sum builtin instead.\n",
            "  score += np.sum(cnt * logsumexp(Elogthetad + Elogbeta[:, int(id)]) for id, cnt in doc)\n",
            "/usr/local/lib/python3.7/dist-packages/gensim/models/ldamodel.py:1077: DeprecationWarning: Calling np.sum(generator) is deprecated, and in the future will give a different result. Use np.sum(np.fromiter(generator)) or the python sum builtin instead.\n",
            "  score += np.sum(cnt * logsumexp(Elogthetad + Elogbeta[:, int(id)]) for id, cnt in doc)\n",
            "/usr/local/lib/python3.7/dist-packages/gensim/models/ldamodel.py:1077: DeprecationWarning: Calling np.sum(generator) is deprecated, and in the future will give a different result. Use np.sum(np.fromiter(generator)) or the python sum builtin instead.\n",
            "  score += np.sum(cnt * logsumexp(Elogthetad + Elogbeta[:, int(id)]) for id, cnt in doc)\n",
            "/usr/local/lib/python3.7/dist-packages/gensim/models/ldamodel.py:1077: DeprecationWarning: Calling np.sum(generator) is deprecated, and in the future will give a different result. Use np.sum(np.fromiter(generator)) or the python sum builtin instead.\n",
            "  score += np.sum(cnt * logsumexp(Elogthetad + Elogbeta[:, int(id)]) for id, cnt in doc)\n",
            "/usr/local/lib/python3.7/dist-packages/gensim/models/ldamodel.py:1077: DeprecationWarning: Calling np.sum(generator) is deprecated, and in the future will give a different result. Use np.sum(np.fromiter(generator)) or the python sum builtin instead.\n",
            "  score += np.sum(cnt * logsumexp(Elogthetad + Elogbeta[:, int(id)]) for id, cnt in doc)\n",
            "/usr/local/lib/python3.7/dist-packages/gensim/models/ldamodel.py:1077: DeprecationWarning: Calling np.sum(generator) is deprecated, and in the future will give a different result. Use np.sum(np.fromiter(generator)) or the python sum builtin instead.\n",
            "  score += np.sum(cnt * logsumexp(Elogthetad + Elogbeta[:, int(id)]) for id, cnt in doc)\n",
            "/usr/local/lib/python3.7/dist-packages/gensim/models/ldamodel.py:1077: DeprecationWarning: Calling np.sum(generator) is deprecated, and in the future will give a different result. Use np.sum(np.fromiter(generator)) or the python sum builtin instead.\n",
            "  score += np.sum(cnt * logsumexp(Elogthetad + Elogbeta[:, int(id)]) for id, cnt in doc)\n",
            "/usr/local/lib/python3.7/dist-packages/gensim/models/ldamodel.py:1077: DeprecationWarning: Calling np.sum(generator) is deprecated, and in the future will give a different result. Use np.sum(np.fromiter(generator)) or the python sum builtin instead.\n",
            "  score += np.sum(cnt * logsumexp(Elogthetad + Elogbeta[:, int(id)]) for id, cnt in doc)\n",
            "/usr/local/lib/python3.7/dist-packages/gensim/models/ldamodel.py:1077: DeprecationWarning: Calling np.sum(generator) is deprecated, and in the future will give a different result. Use np.sum(np.fromiter(generator)) or the python sum builtin instead.\n",
            "  score += np.sum(cnt * logsumexp(Elogthetad + Elogbeta[:, int(id)]) for id, cnt in doc)\n",
            "/usr/local/lib/python3.7/dist-packages/gensim/models/ldamodel.py:1077: DeprecationWarning: Calling np.sum(generator) is deprecated, and in the future will give a different result. Use np.sum(np.fromiter(generator)) or the python sum builtin instead.\n",
            "  score += np.sum(cnt * logsumexp(Elogthetad + Elogbeta[:, int(id)]) for id, cnt in doc)\n",
            "/usr/local/lib/python3.7/dist-packages/gensim/models/ldamodel.py:1077: DeprecationWarning: Calling np.sum(generator) is deprecated, and in the future will give a different result. Use np.sum(np.fromiter(generator)) or the python sum builtin instead.\n",
            "  score += np.sum(cnt * logsumexp(Elogthetad + Elogbeta[:, int(id)]) for id, cnt in doc)\n",
            "/usr/local/lib/python3.7/dist-packages/gensim/models/ldamodel.py:1077: DeprecationWarning: Calling np.sum(generator) is deprecated, and in the future will give a different result. Use np.sum(np.fromiter(generator)) or the python sum builtin instead.\n",
            "  score += np.sum(cnt * logsumexp(Elogthetad + Elogbeta[:, int(id)]) for id, cnt in doc)\n",
            "/usr/local/lib/python3.7/dist-packages/gensim/models/ldamodel.py:1077: DeprecationWarning: Calling np.sum(generator) is deprecated, and in the future will give a different result. Use np.sum(np.fromiter(generator)) or the python sum builtin instead.\n",
            "  score += np.sum(cnt * logsumexp(Elogthetad + Elogbeta[:, int(id)]) for id, cnt in doc)\n",
            "/usr/local/lib/python3.7/dist-packages/gensim/models/ldamodel.py:1077: DeprecationWarning: Calling np.sum(generator) is deprecated, and in the future will give a different result. Use np.sum(np.fromiter(generator)) or the python sum builtin instead.\n",
            "  score += np.sum(cnt * logsumexp(Elogthetad + Elogbeta[:, int(id)]) for id, cnt in doc)\n",
            "/usr/local/lib/python3.7/dist-packages/gensim/models/ldamodel.py:1077: DeprecationWarning: Calling np.sum(generator) is deprecated, and in the future will give a different result. Use np.sum(np.fromiter(generator)) or the python sum builtin instead.\n",
            "  score += np.sum(cnt * logsumexp(Elogthetad + Elogbeta[:, int(id)]) for id, cnt in doc)\n",
            "/usr/local/lib/python3.7/dist-packages/gensim/models/ldamodel.py:1077: DeprecationWarning: Calling np.sum(generator) is deprecated, and in the future will give a different result. Use np.sum(np.fromiter(generator)) or the python sum builtin instead.\n",
            "  score += np.sum(cnt * logsumexp(Elogthetad + Elogbeta[:, int(id)]) for id, cnt in doc)\n",
            "/usr/local/lib/python3.7/dist-packages/gensim/models/ldamodel.py:1077: DeprecationWarning: Calling np.sum(generator) is deprecated, and in the future will give a different result. Use np.sum(np.fromiter(generator)) or the python sum builtin instead.\n",
            "  score += np.sum(cnt * logsumexp(Elogthetad + Elogbeta[:, int(id)]) for id, cnt in doc)\n",
            "/usr/local/lib/python3.7/dist-packages/gensim/models/ldamodel.py:1077: DeprecationWarning: Calling np.sum(generator) is deprecated, and in the future will give a different result. Use np.sum(np.fromiter(generator)) or the python sum builtin instead.\n",
            "  score += np.sum(cnt * logsumexp(Elogthetad + Elogbeta[:, int(id)]) for id, cnt in doc)\n",
            "/usr/local/lib/python3.7/dist-packages/gensim/models/ldamodel.py:1077: DeprecationWarning: Calling np.sum(generator) is deprecated, and in the future will give a different result. Use np.sum(np.fromiter(generator)) or the python sum builtin instead.\n",
            "  score += np.sum(cnt * logsumexp(Elogthetad + Elogbeta[:, int(id)]) for id, cnt in doc)\n",
            "/usr/local/lib/python3.7/dist-packages/gensim/models/ldamodel.py:1077: DeprecationWarning: Calling np.sum(generator) is deprecated, and in the future will give a different result. Use np.sum(np.fromiter(generator)) or the python sum builtin instead.\n",
            "  score += np.sum(cnt * logsumexp(Elogthetad + Elogbeta[:, int(id)]) for id, cnt in doc)\n",
            "/usr/local/lib/python3.7/dist-packages/gensim/models/ldamodel.py:1077: DeprecationWarning: Calling np.sum(generator) is deprecated, and in the future will give a different result. Use np.sum(np.fromiter(generator)) or the python sum builtin instead.\n",
            "  score += np.sum(cnt * logsumexp(Elogthetad + Elogbeta[:, int(id)]) for id, cnt in doc)\n",
            "/usr/local/lib/python3.7/dist-packages/gensim/models/ldamodel.py:1077: DeprecationWarning: Calling np.sum(generator) is deprecated, and in the future will give a different result. Use np.sum(np.fromiter(generator)) or the python sum builtin instead.\n",
            "  score += np.sum(cnt * logsumexp(Elogthetad + Elogbeta[:, int(id)]) for id, cnt in doc)\n",
            "/usr/local/lib/python3.7/dist-packages/gensim/models/ldamodel.py:1077: DeprecationWarning: Calling np.sum(generator) is deprecated, and in the future will give a different result. Use np.sum(np.fromiter(generator)) or the python sum builtin instead.\n",
            "  score += np.sum(cnt * logsumexp(Elogthetad + Elogbeta[:, int(id)]) for id, cnt in doc)\n",
            "/usr/local/lib/python3.7/dist-packages/gensim/models/ldamodel.py:1077: DeprecationWarning: Calling np.sum(generator) is deprecated, and in the future will give a different result. Use np.sum(np.fromiter(generator)) or the python sum builtin instead.\n",
            "  score += np.sum(cnt * logsumexp(Elogthetad + Elogbeta[:, int(id)]) for id, cnt in doc)\n",
            "/usr/local/lib/python3.7/dist-packages/gensim/models/ldamodel.py:1077: DeprecationWarning: Calling np.sum(generator) is deprecated, and in the future will give a different result. Use np.sum(np.fromiter(generator)) or the python sum builtin instead.\n",
            "  score += np.sum(cnt * logsumexp(Elogthetad + Elogbeta[:, int(id)]) for id, cnt in doc)\n",
            "/usr/local/lib/python3.7/dist-packages/gensim/models/ldamodel.py:1077: DeprecationWarning: Calling np.sum(generator) is deprecated, and in the future will give a different result. Use np.sum(np.fromiter(generator)) or the python sum builtin instead.\n",
            "  score += np.sum(cnt * logsumexp(Elogthetad + Elogbeta[:, int(id)]) for id, cnt in doc)\n",
            "/usr/local/lib/python3.7/dist-packages/gensim/models/ldamodel.py:1077: DeprecationWarning: Calling np.sum(generator) is deprecated, and in the future will give a different result. Use np.sum(np.fromiter(generator)) or the python sum builtin instead.\n",
            "  score += np.sum(cnt * logsumexp(Elogthetad + Elogbeta[:, int(id)]) for id, cnt in doc)\n",
            "/usr/local/lib/python3.7/dist-packages/gensim/models/ldamodel.py:1077: DeprecationWarning: Calling np.sum(generator) is deprecated, and in the future will give a different result. Use np.sum(np.fromiter(generator)) or the python sum builtin instead.\n",
            "  score += np.sum(cnt * logsumexp(Elogthetad + Elogbeta[:, int(id)]) for id, cnt in doc)\n"
          ]
        },
        {
          "output_type": "stream",
          "name": "stdout",
          "text": [
            "[(0,\n",
            "  '0.065*\"amazon\" + 0.047*\"disappoint\" + 0.035*\"bottle\" + 0.035*\"order\" + '\n",
            "  '0.025*\"jump\" + 0.021*\"definitely\" + 0.021*\"recommend\" + 0.021*\"survive\" + '\n",
            "  '0.021*\"spring\" + 0.021*\"expect\"'),\n",
            " (1,\n",
            "  '0.069*\"generic\" + 0.059*\"xyzal\" + 0.055*\"feel\" + 0.051*\"version\" + '\n",
            "  '0.031*\"back\" + 0.030*\"ingredient\" + 0.026*\"really\" + 0.024*\"less\" + '\n",
            "  '0.021*\"compare\" + 0.019*\"day\"'),\n",
            " (2,\n",
            "  '0.045*\"pill\" + 0.040*\"effective\" + 0.036*\"eye\" + 0.033*\"absolutely\" + '\n",
            "  '0.032*\"however\" + 0.029*\"congest\" + 0.029*\"son\" + 0.022*\"morning\" + '\n",
            "  '0.022*\"experience\" + 0.021*\"medication\"'),\n",
            " (3,\n",
            "  '0.044*\"relief\" + 0.039*\"still\" + 0.032*\"allergy\" + 0.031*\"stick\" + '\n",
            "  '0.026*\"week\" + 0.022*\"reason\" + 0.022*\"month\" + 0.022*\"night\" + '\n",
            "  '0.021*\"case\" + 0.020*\"suffer\"'),\n",
            " (4,\n",
            "  '0.157*\"work\" + 0.083*\"brand\" + 0.061*\"cheap\" + 0.038*\"well\" + '\n",
            "  '0.031*\"usually\" + 0.030*\"name\" + 0.029*\"decide\" + 0.026*\"option\" + '\n",
            "  '0.021*\"great\" + 0.021*\"stop\"')]\n"
          ]
        },
        {
          "output_type": "stream",
          "name": "stderr",
          "text": [
            "/usr/local/lib/python3.7/dist-packages/pyLDAvis/_prepare.py:247: FutureWarning: In a future version of pandas all arguments of DataFrame.drop except for the argument 'labels' will be keyword-only\n",
            "  by='saliency', ascending=False).head(R).drop('saliency', 1)\n"
          ]
        },
        {
          "output_type": "execute_result",
          "data": {
            "text/plain": [
              "PreparedData(topic_coordinates=              x         y  topics  cluster       Freq\n",
              "topic                                                \n",
              "1      0.045799 -0.180563       1        1  24.437127\n",
              "4     -0.215846  0.007213       2        1  21.212132\n",
              "2      0.063441  0.057672       3        1  20.674828\n",
              "3      0.052790  0.056162       4        1  18.983820\n",
              "0      0.053816  0.059516       5        1  14.692093, topic_info=              Term       Freq      Total Category  logprob  loglift\n",
              "6             work  13.000000  13.000000  Default  30.0000  30.0000\n",
              "3            brand   7.000000   7.000000  Default  29.0000  29.0000\n",
              "74         generic   6.000000   6.000000  Default  28.0000  28.0000\n",
              "17          amazon   4.000000   4.000000  Default  27.0000  27.0000\n",
              "21           cheap   5.000000   5.000000  Default  26.0000  26.0000\n",
              "..             ...        ...        ...      ...      ...      ...\n",
              "115         matter   0.475509   1.053082   Topic5  -4.7471   1.1228\n",
              "89          charge   0.392859   0.970506   Topic5  -4.9380   1.0135\n",
              "55   unfortunately   0.318691   0.908427   Topic5  -5.1472   0.8704\n",
              "2            price   0.964435   2.766146   Topic5  -4.0399   0.8642\n",
              "113            buy   0.475093   1.491264   Topic5  -4.7480   0.7740\n",
              "\n",
              "[184 rows x 6 columns], token_table=      Topic      Freq        Term\n",
              "term                             \n",
              "31        3  0.979467  absolutely\n",
              "85        1  0.938097         ago\n",
              "134       4  0.707640     allergy\n",
              "169       2  0.756153      almost\n",
              "17        5  0.964412      amazon\n",
              "...     ...       ...         ...\n",
              "6         2  0.922565        work\n",
              "167       1  0.841536       xyzal\n",
              "76        1  0.941103        year\n",
              "71        1  0.533580      zyrtec\n",
              "126       4  0.636171       zyzal\n",
              "\n",
              "[147 rows x 3 columns], R=30, lambda_step=0.01, plot_opts={'xlab': 'PC1', 'ylab': 'PC2'}, topic_order=[2, 5, 3, 4, 1])"
            ],
            "text/html": [
              "\n",
              "<link rel=\"stylesheet\" type=\"text/css\" href=\"https://cdn.jsdelivr.net/gh/bmabey/pyLDAvis@3.3.1/pyLDAvis/js/ldavis.v1.0.0.css\">\n",
              "\n",
              "\n",
              "<div id=\"ldavis_el671399592332944168674012737\"></div>\n",
              "<script type=\"text/javascript\">\n",
              "\n",
              "var ldavis_el671399592332944168674012737_data = {\"mdsDat\": {\"x\": [0.0457987449353257, -0.21584624065146538, 0.0634414369177864, 0.05279029643519606, 0.05381576236315716], \"y\": [-0.18056292718104658, 0.007213153080646755, 0.05767177625433851, 0.05616234912710168, 0.05951564871895962], \"topics\": [1, 2, 3, 4, 5], \"cluster\": [1, 1, 1, 1, 1], \"Freq\": [24.43712667912146, 21.212131741536684, 20.674828078620298, 18.983820274435814, 14.692093226285746]}, \"tinfo\": {\"Term\": [\"work\", \"brand\", \"generic\", \"amazon\", \"cheap\", \"xyzal\", \"feel\", \"disappoint\", \"pill\", \"relief\", \"version\", \"effective\", \"still\", \"well\", \"eye\", \"bottle\", \"order\", \"absolutely\", \"allergy\", \"however\", \"stick\", \"usually\", \"back\", \"ingredient\", \"congest\", \"name\", \"son\", \"decide\", \"week\", \"jump\", \"generic\", \"xyzal\", \"feel\", \"back\", \"ingredient\", \"really\", \"less\", \"compare\", \"day\", \"year\", \"version\", \"dose\", \"twice\", \"never\", \"corn\", \"zyrtec\", \"excite\", \"finally\", \"medicine\", \"market\", \"difference\", \"couple\", \"cause\", \"ago\", \"normal\", \"switch\", \"nauseous\", \"pain\", \"sick\", \"side\", \"work\", \"brand\", \"cheap\", \"well\", \"usually\", \"name\", \"decide\", \"option\", \"great\", \"stop\", \"close\", \"effectiveness\", \"little\", \"tablet\", \"excited\", \"real\", \"almost\", \"sleep\", \"snore\", \"form\", \"isomeric\", \"often\", \"saving\", \"guess\", \"guy\", \"formula\", \"new\", \"cvs\", \"worth\", \"price\", \"version\", \"pill\", \"effective\", \"eye\", \"absolutely\", \"however\", \"congest\", \"son\", \"morning\", \"medication\", \"experience\", \"hope\", \"immediately\", \"review\", \"placebo\", \"return\", \"wonder\", \"drug\", \"base\", \"away\", \"brush\", \"drop\", \"itchiness\", \"put\", \"bummed\", \"begin\", \"itch\", \"change\", \"especially\", \"face\", \"find\", \"relief\", \"still\", \"allergy\", \"stick\", \"week\", \"reason\", \"month\", \"night\", \"case\", \"family\", \"suffer\", \"first\", \"happen\", \"long\", \"help\", \"symptom\", \"zyzal\", \"sinus\", \"sadly\", \"drowsy\", \"maybe\", \"bad\", \"reaction\", \"people\", \"cover\", \"blockage\", \"start\", \"suffering\", \"time\", \"usual\", \"price\", \"order\", \"amazon\", \"disappoint\", \"bottle\", \"jump\", \"definitely\", \"recommend\", \"spring\", \"survive\", \"expect\", \"surprised\", \"order\", \"triple\", \"cancel\", \"save\", \"subscribe\", \"crazy\", \"fl\", \"half\", \"sneeze\", \"way\", \"product\", \"husband\", \"item\", \"available\", \"chance\", \"choice\", \"matter\", \"charge\", \"unfortunately\", \"price\", \"buy\"], \"Freq\": [13.0, 7.0, 6.0, 4.0, 5.0, 5.0, 5.0, 3.0, 4.0, 3.0, 6.0, 3.0, 3.0, 3.0, 3.0, 2.0, 2.0, 3.0, 2.0, 3.0, 2.0, 3.0, 3.0, 3.0, 2.0, 2.0, 2.0, 2.0, 2.0, 1.0, 6.320376985432142, 5.392294935017847, 5.05631496708881, 2.8192206984581825, 2.763933042608434, 2.369876426280665, 2.201415300030676, 1.9054141744031556, 1.7505701637798023, 1.587097712763685, 4.66488690026146, 1.5183640805391043, 1.5183640805391043, 1.5198545879712304, 1.2685724204895732, 1.316331731960507, 1.1489646744988333, 1.1489646744988333, 1.0093863530487546, 1.004997598991716, 0.9931333873385381, 0.9826328567076675, 0.8983620554847788, 0.5297011543656707, 0.5297011543656707, 0.5297011543656707, 0.5296974191835877, 0.5296974191835877, 0.5296974191835877, 0.5296974191835877, 12.430306355648018, 6.52918297025386, 4.823947305337483, 3.0121572913038346, 2.471697149002744, 2.3349515953199247, 2.2800052536085533, 2.0623003770239867, 1.6640162555824773, 1.6553877549239606, 1.1829497847798056, 1.1829497847798056, 1.1829497847798056, 1.1829497847798056, 1.1705507731713367, 1.1705507731713367, 0.7491964508419259, 0.7491964508419259, 0.7491964508419259, 0.7467436917987529, 0.7467436917987529, 0.7467436917987529, 0.714725629028604, 0.6043124546035946, 0.6043124546035946, 0.49283420239182735, 0.577774892759841, 0.4785877001046816, 0.3415471388862812, 0.5880844979310941, 1.26430834605492, 3.5083871016657833, 3.103172986093905, 2.762462660923851, 2.5117002614974853, 2.5012537673524644, 2.2487732682579114, 2.2328657998477666, 1.7215302654932212, 1.648375359907389, 1.6630918940855346, 1.4089270511477272, 1.318880587123596, 1.2630849377036455, 1.142345882127796, 1.142345882127796, 1.142345882127796, 1.1147578927981636, 0.7565329628466317, 0.7363069034721819, 0.7363069034721819, 0.7363069034721819, 0.7363069034721819, 0.7363069034721819, 0.7361118378966114, 0.7335479752615912, 0.7335479752615912, 0.7411951060270059, 0.7269925940595958, 0.7269925940595958, 0.7269925940595958, 3.1218844779436923, 2.758855165398813, 2.275613596524784, 2.183624913005313, 1.8369635528020654, 1.5853856193394333, 1.5457540717526632, 1.5455270834691825, 1.4562040944281702, 1.3994675750180194, 1.3994675750180194, 1.1524783396208, 1.151190929606242, 1.1408717336090064, 1.088660801344079, 1.0212132310905446, 1.019869238871679, 1.0188714664344152, 0.8861049510912591, 0.7149200422760656, 0.7149200422760656, 0.7148626687122573, 0.7148626687122573, 0.5947609389267202, 0.5832074199481055, 0.5813522754383454, 0.5813522754383454, 0.5813522754383454, 0.5813522754383454, 0.5813522754383454, 0.9040824627109013, 0.6376237392485238, 3.564149587959768, 2.567521653891646, 1.9257225437634486, 1.3494679138543595, 1.140816685392158, 1.140816685392158, 1.140816685392158, 1.140816685392158, 1.1262748702115764, 1.1262748702115764, 1.9156686936262448, 0.9244300535830781, 0.9044857766041975, 0.9044857766041975, 0.9044857766041975, 0.9016669544268172, 0.9016669544268172, 0.9016669544268172, 0.9016669544268172, 0.9016669544268172, 0.7500588773540291, 0.7011581564138771, 0.6013378601057542, 0.5773181062391647, 0.5773181062391647, 0.4755087105879484, 0.4755087105879484, 0.39285944590921645, 0.31869145217287687, 0.9644349739099217, 0.4750934663866961], \"Total\": [13.0, 7.0, 6.0, 4.0, 5.0, 5.0, 5.0, 3.0, 4.0, 3.0, 6.0, 3.0, 3.0, 3.0, 3.0, 2.0, 2.0, 3.0, 2.0, 3.0, 2.0, 3.0, 3.0, 3.0, 2.0, 2.0, 2.0, 2.0, 2.0, 1.0, 6.865361498058864, 5.941516239424357, 5.606743967609109, 3.3575409450313596, 3.306081188783005, 2.930525424043763, 2.795095088306503, 2.443916228877006, 2.2872693836942677, 2.1251659664562044, 6.35321000838275, 2.069986879235978, 2.069986879235978, 2.0733445969794855, 1.805857835851597, 1.8741325146632528, 1.6915655220871484, 1.6915655220871484, 1.5469575238430133, 1.546767943838963, 1.5456559104211343, 1.5446545671391885, 1.4358769860148144, 1.0659883940527317, 1.0659883940527317, 1.0659883940527317, 1.065987850733843, 1.065987850733843, 1.065987850733843, 1.065987850733843, 13.007215315343945, 7.117530416980411, 5.41608757291463, 3.589700015178246, 3.047098927572561, 2.90970803982736, 2.8583046602314424, 2.6398893717984317, 2.2496963223937594, 2.240586431612181, 1.756248449468397, 1.756248449468397, 1.756248449468397, 1.756248449468397, 1.7558291069315883, 1.7558291069315883, 1.3224838414298241, 1.3224838414298241, 1.3224838414298241, 1.323023028686461, 1.323023028686461, 1.323023028686461, 1.3327385642769136, 1.1775750896629762, 1.1775750896629762, 1.0662014671586413, 1.2500178851031156, 1.0704893158680004, 0.9147402690193558, 2.7661458253503177, 6.35321000838275, 4.055945793159986, 3.6497492871131296, 3.309460544751253, 3.0628910722588327, 3.0603117747666464, 2.7963912604949397, 2.795993401154411, 2.275470863671319, 2.2111938941775895, 2.2571878452476115, 1.9554170116466847, 1.8697055165637684, 1.8144943136773641, 1.6888859959649103, 1.6888859959649103, 1.6888859959649103, 1.7141852401383333, 1.3093979761902559, 1.2826920895019256, 1.2826920895019256, 1.2826920895019256, 1.2826920895019256, 1.2826920895019256, 1.282670662364997, 1.2828726068679919, 1.2828726068679919, 1.3062602505653222, 1.2833198570708575, 1.2833198570708575, 1.2833198570708575, 3.7009831650314036, 3.344605668744508, 2.8262975378056514, 2.735683701336652, 2.3883310034615954, 2.1472756565356357, 2.0982973454618956, 2.0982099643714784, 2.0069209919290687, 1.9503228539240685, 1.9503228539240685, 1.7036992632684616, 1.7037722539110582, 1.7022120320625347, 1.6607636063010005, 1.571926206671698, 1.5719040090290557, 1.5719547452302816, 1.4371335302755994, 1.2657180112055786, 1.2657180112055786, 1.2657139318551747, 1.2657139318551747, 1.1537604660438172, 1.1339425582484952, 1.13391212747601, 1.13391212747601, 1.13391212747601, 1.13391212747601, 1.13391212747601, 2.7661458253503177, 2.988778451402032, 4.147605524228861, 3.1452825465510417, 2.5051427904447814, 1.9300481847728557, 1.7187756290210443, 1.7187756290210443, 1.7187756681988957, 1.7187756681988957, 1.7204640165951277, 1.7204640165951277, 2.988778451402032, 1.5068228138372737, 1.4821612951326444, 1.4821612951326444, 1.4821612951326444, 1.4828004305456024, 1.4828004305456024, 1.4828004305456024, 1.4828004305456024, 1.4828004305456024, 1.3275820378921193, 1.3077479576567281, 1.1818597478990582, 1.1620908603161089, 1.1620908603161089, 1.0530817367185343, 1.0530817367185343, 0.9705056273650812, 0.9084272540466539, 2.7661458253503177, 1.4912640417939014], \"Category\": [\"Default\", \"Default\", \"Default\", \"Default\", \"Default\", \"Default\", \"Default\", \"Default\", \"Default\", \"Default\", \"Default\", \"Default\", \"Default\", \"Default\", \"Default\", \"Default\", \"Default\", \"Default\", \"Default\", \"Default\", \"Default\", \"Default\", \"Default\", \"Default\", \"Default\", \"Default\", \"Default\", \"Default\", \"Default\", \"Default\", \"Topic1\", \"Topic1\", \"Topic1\", \"Topic1\", \"Topic1\", \"Topic1\", \"Topic1\", \"Topic1\", \"Topic1\", \"Topic1\", \"Topic1\", \"Topic1\", \"Topic1\", \"Topic1\", \"Topic1\", \"Topic1\", \"Topic1\", \"Topic1\", \"Topic1\", \"Topic1\", \"Topic1\", \"Topic1\", \"Topic1\", \"Topic1\", \"Topic1\", \"Topic1\", \"Topic1\", \"Topic1\", \"Topic1\", \"Topic1\", \"Topic2\", \"Topic2\", \"Topic2\", \"Topic2\", \"Topic2\", \"Topic2\", \"Topic2\", \"Topic2\", \"Topic2\", \"Topic2\", \"Topic2\", \"Topic2\", \"Topic2\", \"Topic2\", \"Topic2\", \"Topic2\", \"Topic2\", \"Topic2\", \"Topic2\", \"Topic2\", \"Topic2\", \"Topic2\", \"Topic2\", \"Topic2\", \"Topic2\", \"Topic2\", \"Topic2\", \"Topic2\", \"Topic2\", \"Topic2\", \"Topic2\", \"Topic3\", \"Topic3\", \"Topic3\", \"Topic3\", \"Topic3\", \"Topic3\", \"Topic3\", \"Topic3\", \"Topic3\", \"Topic3\", \"Topic3\", \"Topic3\", \"Topic3\", \"Topic3\", \"Topic3\", \"Topic3\", \"Topic3\", \"Topic3\", \"Topic3\", \"Topic3\", \"Topic3\", \"Topic3\", \"Topic3\", \"Topic3\", \"Topic3\", \"Topic3\", \"Topic3\", \"Topic3\", \"Topic3\", \"Topic3\", \"Topic4\", \"Topic4\", \"Topic4\", \"Topic4\", \"Topic4\", \"Topic4\", \"Topic4\", \"Topic4\", \"Topic4\", \"Topic4\", \"Topic4\", \"Topic4\", \"Topic4\", \"Topic4\", \"Topic4\", \"Topic4\", \"Topic4\", \"Topic4\", \"Topic4\", \"Topic4\", \"Topic4\", \"Topic4\", \"Topic4\", \"Topic4\", \"Topic4\", \"Topic4\", \"Topic4\", \"Topic4\", \"Topic4\", \"Topic4\", \"Topic4\", \"Topic4\", \"Topic5\", \"Topic5\", \"Topic5\", \"Topic5\", \"Topic5\", \"Topic5\", \"Topic5\", \"Topic5\", \"Topic5\", \"Topic5\", \"Topic5\", \"Topic5\", \"Topic5\", \"Topic5\", \"Topic5\", \"Topic5\", \"Topic5\", \"Topic5\", \"Topic5\", \"Topic5\", \"Topic5\", \"Topic5\", \"Topic5\", \"Topic5\", \"Topic5\", \"Topic5\", \"Topic5\", \"Topic5\", \"Topic5\", \"Topic5\", \"Topic5\"], \"logprob\": [30.0, 29.0, 28.0, 27.0, 26.0, 25.0, 24.0, 23.0, 22.0, 21.0, 20.0, 19.0, 18.0, 17.0, 16.0, 15.0, 14.0, 13.0, 12.0, 11.0, 10.0, 9.0, 8.0, 7.0, 6.0, 5.0, 4.0, 3.0, 2.0, 1.0, -2.6687, -2.8275, -2.8919, -3.4761, -3.4959, -3.6497, -3.7234, -3.8678, -3.9526, -4.0506, -2.9724, -4.0949, -4.0949, -4.0939, -4.2746, -4.2377, -4.3737, -4.3737, -4.5032, -4.5075, -4.5194, -4.53, -4.6197, -5.148, -5.148, -5.148, -5.148, -5.148, -5.148, -5.148, -1.8508, -2.4947, -2.7974, -3.2683, -3.4661, -3.523, -3.5468, -3.6472, -3.8617, -3.8669, -4.203, -4.203, -4.203, -4.203, -4.2135, -4.2135, -4.6597, -4.6597, -4.6597, -4.663, -4.663, -4.663, -4.7068, -4.8746, -4.8746, -5.0786, -4.9196, -5.1079, -5.4453, -4.9019, -4.1365, -3.0902, -3.2129, -3.3292, -3.4244, -3.4285, -3.5349, -3.542, -3.8021, -3.8455, -3.8366, -4.0025, -4.0685, -4.1118, -4.2122, -4.2122, -4.2122, -4.2367, -4.6243, -4.6514, -4.6514, -4.6514, -4.6514, -4.6514, -4.6517, -4.6552, -4.6552, -4.6448, -4.6642, -4.6642, -4.6642, -3.1216, -3.2452, -3.4377, -3.479, -3.6519, -3.7992, -3.8245, -3.8246, -3.8842, -3.9239, -3.9239, -4.1181, -4.1192, -4.1282, -4.175, -4.239, -4.2403, -4.2413, -4.3809, -4.5956, -4.5956, -4.5957, -4.5957, -4.7796, -4.7992, -4.8024, -4.8024, -4.8024, -4.8024, -4.8024, -4.3608, -4.71, -2.7328, -3.0608, -3.3484, -3.704, -3.872, -3.872, -3.872, -3.872, -3.8848, -3.8848, -3.3537, -4.0823, -4.1041, -4.1041, -4.1041, -4.1072, -4.1072, -4.1072, -4.1072, -4.1072, -4.2913, -4.3587, -4.5123, -4.5531, -4.5531, -4.7471, -4.7471, -4.938, -5.1472, -4.0399, -4.748], \"loglift\": [30.0, 29.0, 28.0, 27.0, 26.0, 25.0, 24.0, 23.0, 22.0, 21.0, 20.0, 19.0, 18.0, 17.0, 16.0, 15.0, 14.0, 13.0, 12.0, 11.0, 10.0, 9.0, 8.0, 7.0, 6.0, 5.0, 4.0, 3.0, 2.0, 1.0, 1.3264, 1.3121, 1.3057, 1.2343, 1.23, 1.1967, 1.1703, 1.1602, 1.1416, 1.1171, 1.1002, 1.0992, 1.0992, 1.0985, 1.0559, 1.0558, 1.0223, 1.0223, 0.9821, 0.9779, 0.9667, 0.9567, 0.9401, 0.7097, 0.7097, 0.7097, 0.7097, 0.7097, 0.7097, 0.7097, 1.5052, 1.4643, 1.4348, 1.3752, 1.3413, 1.3305, 1.3245, 1.3037, 1.249, 1.2479, 1.1554, 1.1554, 1.1554, 1.1554, 1.1451, 1.1451, 0.9823, 0.9823, 0.9823, 0.9786, 0.9786, 0.9786, 0.9275, 0.8835, 0.8835, 0.7789, 0.7789, 0.7456, 0.5654, 0.0023, -0.0638, 1.4312, 1.414, 1.3956, 1.3779, 1.3745, 1.3583, 1.3514, 1.2973, 1.2825, 1.2708, 1.2485, 1.2273, 1.214, 1.1853, 1.1853, 1.1853, 1.146, 1.0277, 1.0212, 1.0212, 1.0212, 1.0212, 1.0212, 1.0209, 1.0173, 1.0173, 1.0096, 1.008, 1.008, 1.008, 1.4914, 1.4691, 1.4449, 1.4362, 1.3991, 1.3582, 1.356, 1.3559, 1.3408, 1.3297, 1.3297, 1.2707, 1.2695, 1.2614, 1.2393, 1.2303, 1.229, 1.228, 1.178, 1.0904, 1.0904, 1.0903, 1.0903, 0.999, 0.9967, 0.9935, 0.9935, 0.9935, 0.9935, 0.9935, 0.5433, 0.1167, 1.7663, 1.7149, 1.6548, 1.56, 1.508, 1.508, 1.508, 1.508, 1.4942, 1.4942, 1.4731, 1.4293, 1.424, 1.424, 1.424, 1.4204, 1.4204, 1.4204, 1.4204, 1.4204, 1.3469, 1.2945, 1.2422, 1.2183, 1.2183, 1.1228, 1.1228, 1.0135, 0.8704, 0.8642, 0.774]}, \"token.table\": {\"Topic\": [3, 1, 4, 2, 5, 5, 3, 1, 4, 3, 3, 4, 5, 2, 3, 3, 4, 5, 4, 1, 5, 3, 2, 2, 1, 3, 1, 1, 4, 5, 1, 2, 5, 1, 5, 1, 3, 4, 3, 3, 2, 3, 1, 2, 5, 3, 3, 3, 4, 1, 1, 3, 4, 5, 2, 1, 2, 2, 2, 5, 4, 4, 3, 3, 5, 3, 1, 2, 3, 3, 5, 5, 1, 2, 4, 1, 4, 3, 1, 4, 3, 2, 1, 1, 2, 4, 1, 2, 2, 4, 5, 1, 4, 3, 3, 2, 4, 5, 5, 3, 4, 2, 1, 4, 5, 4, 3, 3, 4, 5, 2, 1, 1, 4, 2, 5, 2, 3, 5, 4, 4, 4, 2, 5, 4, 4, 5, 5, 1, 4, 2, 4, 5, 1, 4, 2, 1, 2, 5, 4, 2, 3, 2, 1, 1, 1, 4], \"Freq\": [0.9794667617048322, 0.9380965173533893, 0.7076395790772998, 0.7561529061246104, 0.9644118700858602, 0.8605179114204398, 0.7796103275169523, 0.8935110692959785, 0.7900679409716902, 0.7637097492005744, 0.7795006258972216, 0.881902552912908, 0.7983576854894189, 0.9834871914702301, 0.7796103275169523, 0.7796233509825453, 0.6705720596582345, 0.6746904019717409, 0.49827571888557104, 0.6964384900237427, 0.8605179114204398, 0.7655442317617954, 0.9231756194276757, 0.5693955204929533, 0.8183586558198076, 0.7152074991272914, 0.5537534462276347, 0.6473939360125495, 0.8818788859504622, 0.6743995883734981, 0.8744050938021622, 0.6997154739404358, 0.581809506206209, 0.6469745259975339, 0.9538093813828106, 0.9661896991048514, 0.7796103275169523, 0.7900653946193861, 0.5833675244568672, 0.8219742683676042, 0.5693955204929533, 0.7792289618914435, 0.5911683508222276, 0.5695315085347669, 0.581238543994104, 0.8860582889505156, 0.9064921486246295, 0.7792289618914435, 0.5127356211757403, 0.8917831862638372, 0.5911683508222276, 0.7792289618914435, 0.5869580515528018, 0.6743995883734981, 0.7558447421681175, 0.873952522630667, 0.8890088764833498, 0.8492027462012648, 0.8492027462012648, 0.6743995883734981, 0.5869329059118501, 0.602132655247238, 0.5113998671607575, 0.9802922776483304, 0.7646733410250073, 0.5348435842655299, 0.9074187319351114, 0.7558447421681175, 0.7795006258972216, 0.7796103275169523, 0.8461240868704238, 0.5181217794920951, 0.7155391630027741, 0.5693955204929533, 0.5874708797518726, 0.6465093901015782, 0.7900653946193861, 0.9044887493884208, 0.6464301602255764, 0.9531537578911355, 0.8789389624497915, 0.6873541855830542, 0.9380969954878793, 0.9646249846328795, 0.7999885536977807, 0.9531934524956384, 0.9380965173533893, 0.7558447421681175, 0.757607504831725, 0.3345848533975147, 0.6691697067950294, 0.9380969954878793, 0.8667310325070735, 0.9862064741460959, 0.592106277385923, 0.36151384024497524, 0.36151384024497524, 0.36151384024497524, 0.7532491186667148, 0.7796103275169523, 0.7900679409716902, 0.5695315085347669, 0.6824714720407534, 0.9314127852717118, 0.581809506206209, 0.8105954191700692, 0.592106277385923, 0.5511177370257718, 0.6958295655437319, 0.6746904019717409, 0.7503347068992161, 0.9380969954878793, 0.9380969954878793, 0.6361506290395823, 0.7561529061246104, 0.6743995883734981, 0.7561529061246104, 0.7153092704633133, 0.5818094929444164, 0.881902552912908, 0.7310786693004027, 0.8969667270599749, 0.8926234541913786, 0.6746904019717409, 0.5127356211757403, 0.881902552912908, 0.581238543994104, 0.5818094929444164, 0.9380965173533893, 0.636162178450692, 0.5693955204929533, 0.881902552912908, 0.6636480353342945, 0.9661896991048514, 0.881902552912908, 0.6563620176235232, 0.7870037340813139, 0.1574007468162628, 0.6743995883734981, 0.8374048643597739, 0.8357244302630217, 0.592106277385923, 0.9225648771912167, 0.8415360319682345, 0.9411029686942882, 0.5335801989325614, 0.6361711620149673], \"Term\": [\"absolutely\", \"ago\", \"allergy\", \"almost\", \"amazon\", \"available\", \"away\", \"back\", \"bad\", \"base\", \"begin\", \"blockage\", \"bottle\", \"brand\", \"brush\", \"bummed\", \"buy\", \"cancel\", \"case\", \"cause\", \"chance\", \"change\", \"cheap\", \"close\", \"compare\", \"congest\", \"corn\", \"couple\", \"cover\", \"crazy\", \"day\", \"decide\", \"definitely\", \"difference\", \"disappoint\", \"dose\", \"drop\", \"drowsy\", \"drug\", \"effective\", \"effectiveness\", \"especially\", \"excite\", \"excited\", \"expect\", \"experience\", \"eye\", \"face\", \"family\", \"feel\", \"finally\", \"find\", \"first\", \"fl\", \"form\", \"generic\", \"great\", \"guess\", \"guy\", \"half\", \"happen\", \"help\", \"hope\", \"however\", \"husband\", \"immediately\", \"ingredient\", \"isomeric\", \"itch\", \"itchiness\", \"item\", \"jump\", \"less\", \"little\", \"long\", \"market\", \"maybe\", \"medication\", \"medicine\", \"month\", \"morning\", \"name\", \"nauseous\", \"never\", \"new\", \"night\", \"normal\", \"often\", \"option\", \"order\", \"order\", \"pain\", \"people\", \"pill\", \"placebo\", \"price\", \"price\", \"price\", \"product\", \"put\", \"reaction\", \"real\", \"really\", \"reason\", \"recommend\", \"relief\", \"return\", \"review\", \"sadly\", \"save\", \"saving\", \"sick\", \"side\", \"sinus\", \"sleep\", \"sneeze\", \"snore\", \"son\", \"spring\", \"start\", \"stick\", \"still\", \"stop\", \"subscribe\", \"suffer\", \"suffering\", \"surprised\", \"survive\", \"switch\", \"symptom\", \"tablet\", \"time\", \"triple\", \"twice\", \"usual\", \"usually\", \"version\", \"version\", \"way\", \"week\", \"well\", \"wonder\", \"work\", \"xyzal\", \"year\", \"zyrtec\", \"zyzal\"]}, \"R\": 30, \"lambda.step\": 0.01, \"plot.opts\": {\"xlab\": \"PC1\", \"ylab\": \"PC2\"}, \"topic.order\": [2, 5, 3, 4, 1]};\n",
              "\n",
              "function LDAvis_load_lib(url, callback){\n",
              "  var s = document.createElement('script');\n",
              "  s.src = url;\n",
              "  s.async = true;\n",
              "  s.onreadystatechange = s.onload = callback;\n",
              "  s.onerror = function(){console.warn(\"failed to load library \" + url);};\n",
              "  document.getElementsByTagName(\"head\")[0].appendChild(s);\n",
              "}\n",
              "\n",
              "if(typeof(LDAvis) !== \"undefined\"){\n",
              "   // already loaded: just create the visualization\n",
              "   !function(LDAvis){\n",
              "       new LDAvis(\"#\" + \"ldavis_el671399592332944168674012737\", ldavis_el671399592332944168674012737_data);\n",
              "   }(LDAvis);\n",
              "}else if(typeof define === \"function\" && define.amd){\n",
              "   // require.js is available: use it to load d3/LDAvis\n",
              "   require.config({paths: {d3: \"https://d3js.org/d3.v5\"}});\n",
              "   require([\"d3\"], function(d3){\n",
              "      window.d3 = d3;\n",
              "      LDAvis_load_lib(\"https://cdn.jsdelivr.net/gh/bmabey/pyLDAvis@3.3.1/pyLDAvis/js/ldavis.v3.0.0.js\", function(){\n",
              "        new LDAvis(\"#\" + \"ldavis_el671399592332944168674012737\", ldavis_el671399592332944168674012737_data);\n",
              "      });\n",
              "    });\n",
              "}else{\n",
              "    // require.js not available: dynamically load d3 & LDAvis\n",
              "    LDAvis_load_lib(\"https://d3js.org/d3.v5.js\", function(){\n",
              "         LDAvis_load_lib(\"https://cdn.jsdelivr.net/gh/bmabey/pyLDAvis@3.3.1/pyLDAvis/js/ldavis.v3.0.0.js\", function(){\n",
              "                 new LDAvis(\"#\" + \"ldavis_el671399592332944168674012737\", ldavis_el671399592332944168674012737_data);\n",
              "            })\n",
              "         });\n",
              "}\n",
              "</script>"
            ]
          },
          "metadata": {},
          "execution_count": 15
        }
      ],
      "source": [
        "from pandas.core.arrays.boolean import BooleanDtype\n",
        "\n",
        "def sent_to_words(sentences):\n",
        "    for sent in sentences:\n",
        "        sent = re.sub('\\S*@\\S*\\s?', '', str(sent))  \n",
        "        sent = re.sub('\\s+', ' ', str(sent))  \n",
        "        sent = re.sub(\"\\'\", \"\", str(sent))  \n",
        "        sent = gensim.utils.simple_preprocess(str(sent), deacc=True) \n",
        "        yield(sent)  \n",
        "        \n",
        "def cleaner(df):\n",
        "  data = df.text.values.tolist()\n",
        "  data_words = list(sent_to_words(data))\n",
        "  return data_words, data\n",
        "print('*')\n",
        "print('**')\n",
        "print('***')\n",
        "print('Enter high or low, to analyze 5 star vs 1 star reviews')\n",
        "print('Enter the number of topics you would like to analyze (rec: 5-10)')\n",
        "print('***')\n",
        "print('**')\n",
        "print('*')\n",
        "\n",
        "def topicMaster(target,num_topics, savedAs):\n",
        "  if target.lower() == 'high':\n",
        "    target = fStar\n",
        "  elif target.lower() == 'low':\n",
        "    target = oStar\n",
        "  else:\n",
        "    target = fStar\n",
        "    print('high/low not entered, default: 5 star reviews')\n",
        "  data_words, data = cleaner(target)\n",
        "  bigram = gensim.models.Phrases(data_words, min_count=5, threshold=100) # higher threshold fewer phrases.\n",
        "  trigram = gensim.models.Phrases(bigram[data_words], threshold=100)  \n",
        "  bigram_mod = gensim.models.phrases.Phraser(bigram)\n",
        "  trigram_mod = gensim.models.phrases.Phraser(trigram)\n",
        "\n",
        "  def process_words(texts, stop_words=stop_words, allowed_postags=['NOUN', 'ADJ', 'VERB', 'ADV']):\n",
        "      \"\"\"Remove Stopwords, Form Bigrams, Trigrams and Lemmatization\"\"\"\n",
        "      texts = [[word for word in simple_preprocess(str(doc)) if word not in stop_words] for doc in texts]\n",
        "      texts = [bigram_mod[doc] for doc in texts]\n",
        "      texts = [trigram_mod[bigram_mod[doc]] for doc in texts]\n",
        "      texts_out = []\n",
        "      nlp = spacy.load('en_core_web_sm')\n",
        "      for sent in texts:\n",
        "          doc = nlp(\" \".join(sent)) \n",
        "          texts_out.append([token.lemma_ for token in doc if token.pos_ in allowed_postags])\n",
        "      texts_out = [[word for word in simple_preprocess(str(doc)) if word not in stop_words] for doc in texts_out]    \n",
        "      return texts_out\n",
        "  data_ready = process_words(data_words)\n",
        "  id2word = corpora.Dictionary(data_ready)\n",
        "\n",
        "  corpus = [id2word.doc2bow(text) for text in data_ready]\n",
        "  lda_model = gensim.models.ldamodel.LdaModel(corpus=corpus,\n",
        "                                            id2word=id2word,\n",
        "                                            num_topics=num_topics, \n",
        "                                            random_state=100,\n",
        "                                            update_every=1,\n",
        "                                            chunksize=10,\n",
        "                                            passes=10,\n",
        "                                            alpha='symmetric',\n",
        "                                            iterations=100,\n",
        "                                            per_word_topics=True)\n",
        "\n",
        "  pprint(lda_model.print_topics())\n",
        "\n",
        "  def format_topics_sentences(ldamodel=None, corpus=corpus, texts=data):\n",
        "      sent_topics_df = pd.DataFrame()\n",
        "      for i, row_list in enumerate(ldamodel[corpus]):\n",
        "          row = row_list[0] if ldamodel.per_word_topics else row_list            \n",
        "          row = sorted(row, key=lambda x: (x[1]), reverse=True)\n",
        "          for j, (topic_num, prop_topic) in enumerate(row):\n",
        "              if j == 0: \n",
        "                  wp = ldamodel.show_topic(topic_num)\n",
        "                  topic_keywords = \", \".join([word for word, prop in wp])\n",
        "                  sent_topics_df = sent_topics_df.append(pd.Series([int(topic_num), round(prop_topic,4), topic_keywords]), ignore_index=True)\n",
        "              else:\n",
        "                  break\n",
        "      sent_topics_df.columns = ['Dominant_Topic', 'Perc_Contribution', 'Topic_Keywords']\n",
        "      sent_topics_df=sent_topics_df[sent_topics_df['Dominant_Topic']>=.5]\n",
        "      contents = pd.Series(texts)\n",
        "      sent_topics_df = pd.concat([sent_topics_df, contents], axis=1)\n",
        "      return(sent_topics_df)\n",
        "\n",
        "  df_topic_sents_keywords = format_topics_sentences(ldamodel=lda_model, corpus=corpus, texts=data_ready)\n",
        "  df_dominant_topic = df_topic_sents_keywords.reset_index()\n",
        "  df_dominant_topic.columns = ['Document_No', 'Dominant_Topic', 'Topic_Perc_Contrib', 'Keywords', 'Text']\n",
        "\n",
        "  pd.options.display.max_colwidth = 100\n",
        "  sent_topics_sorteddf_mallet = pd.DataFrame()\n",
        "  sent_topics_outdf_grpd = df_topic_sents_keywords.groupby('Dominant_Topic')\n",
        "  for i, grp in sent_topics_outdf_grpd:\n",
        "      sent_topics_sorteddf_mallet = pd.concat([sent_topics_sorteddf_mallet, \n",
        "                                              grp.sort_values(['Perc_Contribution'], ascending=False).head(1)], \n",
        "                                              axis=0)\n",
        "  sent_topics_sorteddf_mallet.reset_index(drop=True, inplace=True)\n",
        "  sent_topics_sorteddf_mallet.columns = ['Topic_Num', \"Topic_Perc_Contrib\", \"Keywords\", \"Representative Text\"]\n",
        "\n",
        "  import pyLDAvis\n",
        "  import pyLDAvis.gensim_models\n",
        "  pyLDAvis.enable_notebook()\n",
        "  vis = pyLDAvis.gensim_models.prepare(lda_model, corpus, dictionary=lda_model.id2word)\n",
        "  p = pyLDAvis.gensim_models.prepare(lda_model, corpus, dictionary=lda_model.id2word)\n",
        "  pyLDAvis.save_html(p, savedAs)\n",
        "  return vis\n",
        "\n",
        "topicMaster(input(),int(input()), 'fStar.html')"
      ]
    },
    {
      "cell_type": "code",
      "execution_count": null,
      "metadata": {
        "id": "2F2D06Ee1Gv8"
      },
      "outputs": [],
      "source": [
        ""
      ]
    },
    {
      "cell_type": "code",
      "execution_count": null,
      "metadata": {
        "id": "Nr-Mj4Ra1GyS"
      },
      "outputs": [],
      "source": [
        ""
      ]
    },
    {
      "cell_type": "code",
      "execution_count": null,
      "metadata": {
        "id": "VVRcgv3p1G1a"
      },
      "outputs": [],
      "source": [
        ""
      ]
    },
    {
      "cell_type": "code",
      "execution_count": null,
      "metadata": {
        "id": "pAusJYDh1G4C"
      },
      "outputs": [],
      "source": [
        ""
      ]
    },
    {
      "cell_type": "code",
      "execution_count": null,
      "metadata": {
        "id": "pnu3ArTP1G63"
      },
      "outputs": [],
      "source": [
        ""
      ]
    },
    {
      "cell_type": "code",
      "execution_count": null,
      "metadata": {
        "id": "MRWJ19q01G9B"
      },
      "outputs": [],
      "source": [
        ""
      ]
    },
    {
      "cell_type": "code",
      "execution_count": null,
      "metadata": {
        "id": "lDJM6Cj81G_1"
      },
      "outputs": [],
      "source": [
        ""
      ]
    },
    {
      "cell_type": "code",
      "execution_count": null,
      "metadata": {
        "id": "mAqJl50y1HCt"
      },
      "outputs": [],
      "source": [
        ""
      ]
    },
    {
      "cell_type": "code",
      "execution_count": null,
      "metadata": {
        "id": "DP0yKxzs1HGS"
      },
      "outputs": [],
      "source": [
        ""
      ]
    },
    {
      "cell_type": "code",
      "execution_count": null,
      "metadata": {
        "id": "7XXP0DzJ1HIa"
      },
      "outputs": [],
      "source": [
        ""
      ]
    },
    {
      "cell_type": "code",
      "execution_count": null,
      "metadata": {
        "id": "swmp0vgUGDpt"
      },
      "outputs": [],
      "source": [
        ""
      ]
    }
  ],
  "metadata": {
    "colab": {
      "machine_shape": "hm",
      "name": "amazonProductTopics.ipynb",
      "provenance": []
    },
    "gpuClass": "standard",
    "kernelspec": {
      "display_name": "Python 3 (ipykernel)",
      "language": "python",
      "name": "python3"
    },
    "language_info": {
      "codemirror_mode": {
        "name": "ipython",
        "version": 3
      },
      "file_extension": ".py",
      "mimetype": "text/x-python",
      "name": "python",
      "nbconvert_exporter": "python",
      "pygments_lexer": "ipython3",
      "version": "3.9.12"
    }
  },
  "nbformat": 4,
  "nbformat_minor": 0
}